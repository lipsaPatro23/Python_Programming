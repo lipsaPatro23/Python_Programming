{
 "cells": [
  {
   "cell_type": "markdown",
   "metadata": {},
   "source": [
    "### Print() Function"
   ]
  },
  {
   "cell_type": "code",
   "execution_count": 1,
   "metadata": {},
   "outputs": [
    {
     "name": "stdout",
     "output_type": "stream",
     "text": [
      "Hello World!\n"
     ]
    }
   ],
   "source": [
    "#The hash sign is write a comment or text for reference. with this # sign it will not get executed.(ctrl+fowrad slash\"/\")\n",
    "#print(\"write what you what you want to print\")\n",
    "#We have used \"\" mark here, to tell computer its not code its text. in programing lingo, its called String.\n",
    "#if we get any error, copy and paste in google. you will find out the error (stackover flow)\n",
    "print(\"Hello World!\")"
   ]
  },
  {
   "cell_type": "markdown",
   "metadata": {},
   "source": [
    "#### Exercise 1.1\n",
    "**When you run your program, it should print the following**\n",
    "\n",
    "1.Day 1 - python print function\n",
    "\n",
    "2.The function is declared like this:\n",
    "\n",
    "3.print('what to print')"
   ]
  },
  {
   "cell_type": "code",
   "execution_count": 2,
   "metadata": {},
   "outputs": [
    {
     "name": "stdout",
     "output_type": "stream",
     "text": [
      "Day 1 - python print function\n",
      "The function is declared like this:\n",
      "print('what to print')\n"
     ]
    },
    {
     "data": {
      "text/plain": [
       "'In python \\'\\' or \"\" are treated same. However if we want to use specify a text inside a text, we cant use same same quotation\\n   mark, it will show error, as python cant recognize what to highlight. So we use diffrent quotation marks'"
      ]
     },
     "execution_count": 2,
     "metadata": {},
     "output_type": "execute_result"
    }
   ],
   "source": [
    "print(\"Day 1 - python print function\")\n",
    "print(\"The function is declared like this:\")\n",
    "print(\"print('what to print')\")\n",
    "\"\"\"In python '' or \"\" are treated same. However if we want to use specify a text inside a text, we cant use same same quotation\n",
    "   mark, it will show error, as python cant recognize what to highlight. So we use diffrent quotation marks\"\"\""
   ]
  },
  {
   "cell_type": "markdown",
   "metadata": {},
   "source": [
    "### String Manupulation"
   ]
  },
  {
   "cell_type": "code",
   "execution_count": 3,
   "metadata": {},
   "outputs": [
    {
     "name": "stdout",
     "output_type": "stream",
     "text": [
      "Hello world!\n",
      "Hello world!\n",
      "Hello world!\n"
     ]
    }
   ],
   "source": [
    "# if want to print string in individual lines, we have to write them few times.Means we have to write print() 3 times.\n",
    "# how can we print multiple lines using single print()\n",
    "# By using \"\\n\" inside the function. \\n for creating new line\n",
    "\n",
    "print(\"Hello world!\\nHello world!\\nHello world!\")"
   ]
  },
  {
   "cell_type": "code",
   "execution_count": 4,
   "metadata": {},
   "outputs": [
    {
     "name": "stdout",
     "output_type": "stream",
     "text": [
      "     Hello world\n",
      "          Hello world\n",
      "                    Hello world\n"
     ]
    }
   ],
   "source": [
    "#Even we can allign them giving sapce in between\n",
    "\n",
    "print(\"     Hello world\\n          Hello world\\n                    Hello world\")"
   ]
  },
  {
   "cell_type": "code",
   "execution_count": 5,
   "metadata": {},
   "outputs": [
    {
     "name": "stdout",
     "output_type": "stream",
     "text": [
      "HelloLipsa\n",
      "Hello Lipsa\n",
      "Hello Lipsa\n",
      "Hello Lipsa\n"
     ]
    }
   ],
   "source": [
    "# We can also concatinate the strings.(we can combine diffrent strings, so it can be added at the end other string.)\n",
    "# Here we could give space in 3 diffrent ways.\n",
    "print(\"Hello\" + \"Lipsa\")\n",
    "print(\"Hello\"+\" \"+\"Lipsa\")\n",
    "print(\"Hello \" + \"Lipsa\")\n",
    "print(\"Hello\" + \" Lipsa\")"
   ]
  },
  {
   "cell_type": "markdown",
   "metadata": {},
   "source": [
    "***Spaces are very important in python. if we start a line of code giving space it will show error. The spaces are \"Indentation\"***"
   ]
  },
  {
   "cell_type": "markdown",
   "metadata": {},
   "source": [
    "#### Exercise\n",
    "**Debugging Practise**\n",
    "\n",
    "1.print(Day-1 String Manipulation\")\n",
    "\n",
    "2.print(\"String Concatenation done with the \"+\" sign.\")\n",
    "\n",
    "3..print('eg. print(\"Hello\" + \"world\")')\n",
    "\n",
    "4.print((\"New line can be created with a backslash and n.\")"
   ]
  },
  {
   "cell_type": "code",
   "execution_count": 6,
   "metadata": {},
   "outputs": [
    {
     "name": "stdout",
     "output_type": "stream",
     "text": [
      "Day-1 String Manipulation\n",
      "String Concatenation done with the '+' sign.\n",
      "eg. print(\"Hello\" + \"world\")\n",
      "New line can be created with a backslash and n.\n"
     ]
    }
   ],
   "source": [
    "#Answer\n",
    "print(\"Day-1 String Manipulation\")\n",
    "\n",
    "print(\"String Concatenation done with the '+' sign.\")\n",
    "\n",
    "print('eg. print(\"Hello\" + \"world\")')\n",
    "\n",
    "print(\"New line can be created with a backslash and n.\")"
   ]
  },
  {
   "cell_type": "markdown",
   "metadata": {},
   "source": [
    "### Input() Function"
   ]
  },
  {
   "cell_type": "code",
   "execution_count": 7,
   "metadata": {},
   "outputs": [
    {
     "name": "stdout",
     "output_type": "stream",
     "text": [
      "What is your name ? Lipsa\n",
      "Repeat Please: Lipsa\n",
      "Hello Lipsa\n"
     ]
    }
   ],
   "source": [
    "# We learn the with print(), we can print out whatever we want. But what if we want to ask someone and they will give the answer.\n",
    "# this case we use input(\" A prompt from user\"). So, Input() will get user input in consol\n",
    "\n",
    "input(\"What is your name ? \")\n",
    "\n",
    "print(\"Hello \" + input(\"Repeat Please: \"))\n"
   ]
  },
  {
   "cell_type": "markdown",
   "metadata": {},
   "source": [
    "#### Exercise\n",
    "**Input Function Practice**\n",
    "\n",
    "1.Write a Program that prints the number of the character in a user's name."
   ]
  },
  {
   "cell_type": "code",
   "execution_count": 8,
   "metadata": {},
   "outputs": [
    {
     "name": "stdout",
     "output_type": "stream",
     "text": [
      "What is your name :Lipsa\n",
      "5\n"
     ]
    }
   ],
   "source": [
    "print(len((input(\"What is your name :\"))))\n",
    " "
   ]
  },
  {
   "cell_type": "markdown",
   "metadata": {},
   "source": [
    "### Variables"
   ]
  },
  {
   "cell_type": "code",
   "execution_count": 9,
   "metadata": {},
   "outputs": [
    {
     "name": "stdout",
     "output_type": "stream",
     "text": [
      "What is your name:  Lipsa\n",
      "5\n"
     ]
    }
   ],
   "source": [
    "# variables are like storage box, where we can store values, which can be replaced and used in programme\n",
    "# here we saved each piece of code and saved in a variable.\n",
    "name = input(\"What is your name:  \")\n",
    "length = len(name)\n",
    "print(length)"
   ]
  },
  {
   "cell_type": "markdown",
   "metadata": {},
   "source": [
    "#### Exercise\n",
    "**Variable Naming Quiz**\n",
    "\n",
    "1.Write a program that switches the stored in a variable \"a\" & \"b\"\n",
    "\n",
    "*a = input(\"a:\")*\n",
    "\n",
    "*b = input(\"b:\")*"
   ]
  },
  {
   "cell_type": "code",
   "execution_count": 10,
   "metadata": {},
   "outputs": [
    {
     "name": "stdout",
     "output_type": "stream",
     "text": [
      "a:5\n",
      "b:100\n",
      "a =  100\n",
      "b =  5\n"
     ]
    }
   ],
   "source": [
    "#This is one way of doing it however try other way.\n",
    "\n",
    "a = input(\"a:\")\n",
    "b = input(\"b:\")\n",
    "a,b = b,a\n",
    "print(\"a = \", a)\n",
    "print(\"b = \", b)\n"
   ]
  },
  {
   "cell_type": "code",
   "execution_count": 11,
   "metadata": {},
   "outputs": [
    {
     "name": "stdout",
     "output_type": "stream",
     "text": [
      "a:5\n",
      "b:100\n",
      "a =  100\n",
      "b =  5\n"
     ]
    }
   ],
   "source": [
    "# Like we have 01 cup of coffee and a glass of milk, how can we switch the container? \n",
    "# well the ANSWER is we need a third container\n",
    "a = input(\"a:\")\n",
    "b = input(\"b:\")\n",
    "c = a\n",
    "a = b\n",
    "b = c\n",
    "print(\"a = \", a)\n",
    "print(\"b = \", b)"
   ]
  },
  {
   "cell_type": "markdown",
   "metadata": {},
   "source": [
    "#### Variable Naming Rules\n",
    "\n",
    "1.We cant have spaces, Instead \"_\" can be used for spaces\n",
    "2.Names can not begin with numbers\n",
    "3.Keywords can not be used as variable names\n",
    "4.Names should be relevant to the code, so later we can understand it. "
   ]
  },
  {
   "cell_type": "markdown",
   "metadata": {},
   "source": [
    "## DAY 1 Project : Band Name Generator\n",
    "\n",
    "**Create a greeting for your program**\n",
    "\n",
    "**Ask the user the city they grew up in**\n",
    "\n",
    "**Ask the user the name of a pet**\n",
    "\n",
    "**Combine the the name of the city and pet and show them their band name**\n",
    "\n",
    "**MAKE SURE THE INPUT CURSOR SHOWS ON A NEW LINE**"
   ]
  },
  {
   "cell_type": "code",
   "execution_count": 12,
   "metadata": {},
   "outputs": [
    {
     "name": "stdout",
     "output_type": "stream",
     "text": [
      "Hello! and Welcome to the Band Name Generator..\n",
      "Which City didi you grow up in? \n",
      "Berhampur\n",
      "What is your pet name? \n",
      "Bubble\n",
      "Your band name is Berhampur-Bubble\n"
     ]
    }
   ],
   "source": [
    "print(\"Hello! and Welcome to the Band Name Generator..\")\n",
    "city = input(\"Which City didi you grow up in? \\n\")\n",
    "pet = input(\"What is your pet name? \\n\")\n",
    "print(\"Your band name is \"+ city +\"-\"+ pet)"
   ]
  },
  {
   "cell_type": "code",
   "execution_count": null,
   "metadata": {},
   "outputs": [],
   "source": []
  }
 ],
 "metadata": {
  "hide_input": false,
  "kernelspec": {
   "display_name": "Python 3",
   "language": "python",
   "name": "python3"
  },
  "language_info": {
   "codemirror_mode": {
    "name": "ipython",
    "version": 3
   },
   "file_extension": ".py",
   "mimetype": "text/x-python",
   "name": "python",
   "nbconvert_exporter": "python",
   "pygments_lexer": "ipython3",
   "version": "3.7.6"
  },
  "toc": {
   "base_numbering": 1,
   "nav_menu": {},
   "number_sections": true,
   "sideBar": true,
   "skip_h1_title": false,
   "title_cell": "Table of Contents",
   "title_sidebar": "Contents",
   "toc_cell": false,
   "toc_position": {},
   "toc_section_display": true,
   "toc_window_display": false
  }
 },
 "nbformat": 4,
 "nbformat_minor": 4
}
