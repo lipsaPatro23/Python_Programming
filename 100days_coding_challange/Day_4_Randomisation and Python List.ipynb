{
 "cells": [
  {
   "cell_type": "markdown",
   "metadata": {},
   "source": [
    "**The Mersenne Twister is a pseudorandom number generator (PRNG). It is by far the most widely used general-purpose PRNG.[1] Its name derives from the fact that its period length is chosen to be a Mersenne prime.**"
   ]
  },
  {
   "cell_type": "markdown",
   "metadata": {},
   "source": [
    "### Random Module"
   ]
  },
  {
   "cell_type": "code",
   "execution_count": null,
   "metadata": {},
   "outputs": [],
   "source": [
    "# random() is an inbuilt function of the random module in Python3. The random module gives access to various useful functions and one of them being able to generate random floating numbers, which is random().\n",
    "# Syntax : random.random()\n",
    "# Parameters : This method does not accept any parameter.\n",
    "# Returns : This method returns a random floating number between 0 and 1"
   ]
  },
  {
   "cell_type": "code",
   "execution_count": null,
   "metadata": {},
   "outputs": [],
   "source": [
    "#we can use the random function by importing random module.\n",
    "import random\n",
    "ran_int = random.randint(1, 10)\n",
    "ran_int"
   ]
  },
  {
   "cell_type": "code",
   "execution_count": null,
   "metadata": {},
   "outputs": [],
   "source": [
    "#What is a module?\n",
    "#In Python, Modules are simply files with the “. py” extension containing Python code that can be imported inside another Python Program.\n",
    "# In simple terms, we can consider a module to be the same as a code library or a file that contains a set of functions \n",
    "# that you want to include in your program.\n",
    "\n",
    "\n",
    "# Module: Single .py file containing code\n",
    "# Package: Collection of sub-packages or modules"
   ]
  },
  {
   "cell_type": "code",
   "execution_count": null,
   "metadata": {},
   "outputs": [],
   "source": [
    "import my_module\n",
    "print(my_module.pi)"
   ]
  },
  {
   "cell_type": "code",
   "execution_count": null,
   "metadata": {},
   "outputs": [],
   "source": [
    "rand_float = random.random()\n",
    "print(rand_float)"
   ]
  },
  {
   "cell_type": "markdown",
   "metadata": {},
   "source": [
    "#### Exercise:\n",
    "**Head or Tails**\n",
    "\n",
    "**You are going to write a coin toss problem. It will randomly tell the user \"Head\" or \"Tails\"**\n",
    "\n",
    "*The first letter should be capitalized and spelt excatly like in the example. eg: Heads,not heads*"
   ]
  },
  {
   "cell_type": "code",
   "execution_count": null,
   "metadata": {},
   "outputs": [],
   "source": [
    "import random\n",
    "\n",
    "random_side = random.randint(0, 1)\n",
    "\n",
    "if random_side == 1:\n",
    "    print(\"Heads\")\n",
    "else:\n",
    "    print(\"Tails\")"
   ]
  },
  {
   "cell_type": "markdown",
   "metadata": {},
   "source": [
    "### Understanding the Offset and Appending items to list"
   ]
  },
  {
   "cell_type": "code",
   "execution_count": null,
   "metadata": {},
   "outputs": [],
   "source": [
    "# List = store grouped pieces of data in order, it take mixed data types\n",
    "#  we can change the values of a lsit\n",
    "# we can extract values from list using \"[]\"\n",
    "# we can use add an item at end the list using \"append()\" or we can use bunch of item at the end of the list using \"extend()\".\n",
    "# there are many more functions you can check documentation(list data structure) or infront of list put a dot it will show suggestions as well\n",
    "\n",
    "mixed_data = ['usa',1,'pineapple',0.259]\n",
    "print(mixed_data)\n",
    "\n",
    "mixed_data[3]\n"
   ]
  },
  {
   "cell_type": "markdown",
   "metadata": {},
   "source": [
    "#### Exercise\n",
    "**Banker Roulette**\n",
    "\n",
    "**Write a program which will select a random name from list of names.The person selected will have to pay everybody's food bill**\n",
    "\n",
    "*You are not allowed to us e the choice() function, you may use len()*"
   ]
  },
  {
   "cell_type": "code",
   "execution_count": 1,
   "metadata": {},
   "outputs": [
    {
     "name": "stdout",
     "output_type": "stream",
     "text": [
      "Who will pay the bill\n",
      "Give me everybody's name, sperated by a comma\n",
      "'Lipsa','Nora','Ellie','Saby','Monty','Sandra','Jack'\n",
      "'Sandra' going to buy meal today\n"
     ]
    }
   ],
   "source": [
    "import random\n",
    "\n",
    "print(\"Who will pay the bill\")\n",
    "friends = ['Lipsa','Nora','Ellie','Saby','Monty','Sandra','Jack']\n",
    "name_string = input(\"Give me everybody's name, sperated by a comma\\n\").split(\",\")\n",
    "num_items = len(name_string)\n",
    "random_choice = random.randint(0,num_items-1)\n",
    "pay_person = name_string[random_choice]\n",
    "print(pay_person + \" going to buy meal today\")\n"
   ]
  },
  {
   "cell_type": "code",
   "execution_count": 3,
   "metadata": {},
   "outputs": [
    {
     "name": "stdout",
     "output_type": "stream",
     "text": [
      "Lipsa will pay todays bill\n"
     ]
    }
   ],
   "source": [
    "#alternative solution\n",
    "friends = ['Lipsa','Nora','Ellie','Saby','Monty','Sandra','Jack']\n",
    "person_to_pay = random.choice(friends)\n",
    "print(f\"{person_to_pay} will pay today's bill\")"
   ]
  },
  {
   "cell_type": "markdown",
   "metadata": {},
   "source": [
    "### Index Errors and Nested List"
   ]
  },
  {
   "cell_type": "code",
   "execution_count": 1,
   "metadata": {},
   "outputs": [],
   "source": [
    "# when we try to extract values which are not in the rage of given List. It will give \"Index Error\"\n",
    "# When we have a list inside other list called Nested List"
   ]
  },
  {
   "cell_type": "code",
   "execution_count": 2,
   "metadata": {},
   "outputs": [],
   "source": [
    "fruits = ['Strawberries','Apples','Grapes', 'Peach','Cheery','Pears']\n",
    "Vegetables = ['Spinich','Kale','Tomatoes','Celery','Potatoes']\n",
    "nested_list = [fruits,Vegetables]"
   ]
  },
  {
   "cell_type": "markdown",
   "metadata": {},
   "source": [
    "#### Exercise\n",
    "\n",
    "**Treasure Map**\n",
    "\n",
    "You are going to write a program which will mark a spot with an X.\n",
    "\n",
    "In the starting code, you will find a variable called map.\n",
    "\n",
    "This map contains a nested list.\n",
    "When map is printed this is what the nested list looks like:\n",
    "\n",
    "['⬜️', '⬜️', '⬜️'],['⬜️', '⬜️', '⬜️'],['⬜️', '⬜️', '⬜️']\n",
    "\n",
    "In the starting code, we have used new lines (\\n) to format the three rows into a square, like this:\n",
    "\n",
    "   col1...col2...col3   \n",
    "1['⬜️', '⬜️', '⬜️']\n",
    "\n",
    "2['⬜️', '⬜️', '⬜️']\n",
    "\n",
    "3['⬜️', '⬜️', '⬜️']\n",
    "\n",
    "This is to try and simulate the coordinates on a real map.\n",
    "\n",
    "**Your job is to write a program that allows you to mark a square on the map using a two-digit system. The first digit is the vertical column number and the second digit is the horizontal row number. e.g.:**\n",
    "\n",
    "https://cdn.fs.teachablecdn.com/2vnboIYTFFruvl9FJ2w5\n",
    "\n",
    "*First your program must take the user input and convert it to a usable format.*\n",
    "\n",
    "*Next, you need to use it to update your nested list with an \"x\""
   ]
  },
  {
   "cell_type": "code",
   "execution_count": 10,
   "metadata": {},
   "outputs": [
    {
     "name": "stdout",
     "output_type": "stream",
     "text": [
      "['⬜️', '️⬜️', '️⬜️']\n",
      "['⬜️', '⬜️', '️⬜️']\n",
      "['⬜️️', '⬜️️', '⬜️']\n",
      "Where do you want to put the treasure? 33\n",
      "['⬜️', '️⬜️', '️⬜️']\n",
      "['⬜️', '⬜️', '️⬜️']\n",
      "['⬜️️', '⬜️️', 'X']\n"
     ]
    }
   ],
   "source": [
    "row1 = [\"⬜️\",\"️⬜️\",\"️⬜️\"]\n",
    "row2 = [\"⬜️\",\"⬜️\",\"️⬜️\"]\n",
    "row3 = [\"⬜️️\",\"⬜️️\",\"⬜️\"]\n",
    "map = [row1, row2, row3]\n",
    "print(f\"{row1}\\n{row2}\\n{row3}\")\n",
    "position = input(\"Where do you want to put the treasure? \")\n",
    "\n",
    "#23 - column2, row3\n",
    "horizontal_col = int(position[0])\n",
    "vertical_row = int(position[1])\n",
    "\n",
    "#we picked the row here\n",
    "#selected_row =map[vertical_row-1]\n",
    "#then we pick the column\n",
    "#selected_row[horizontal_col-1] = 'X'\n",
    "\n",
    "#INSTEAD OF WRITING ABOVE TWO LINES IF CODE< WE CAN PUT IT IN ONE LINE\n",
    "map[vertical_row-1][horizontal_col-1] = \"X\"\n",
    "\n",
    "print(f\"{row1}\\n{row2}\\n{row3}\")"
   ]
  },
  {
   "cell_type": "markdown",
   "metadata": {},
   "source": [
    "## DAY 4 Project - Rock Paper Scissors\n",
    "\n",
    "**ASCII ART for Rock, Paper and Scissors shown below and saved in variable\" - double click the mark down file to see the ASCII art fully in this cell\n",
    "\n",
    "rock = '''\n",
    "    _______\n",
    "---'   ____)\n",
    "      (_____)\n",
    "      (_____)\n",
    "      (____)\n",
    "---.__(___)\n",
    "'''\n",
    "\n",
    "paper = '''\n",
    "    _______\n",
    "---'   ____)____\n",
    "          ______)\n",
    "          _______)\n",
    "         _______)\n",
    "---.__________)\n",
    "'''\n",
    "\n",
    "scissors = '''\n",
    "    _______\n",
    "---'   ____)____\n",
    "          ______)\n",
    "       __________)\n",
    "      (____)\n",
    "---.__(___)\n",
    "'''\n",
    "\n"
   ]
  },
  {
   "cell_type": "code",
   "execution_count": 32,
   "metadata": {},
   "outputs": [
    {
     "name": "stdout",
     "output_type": "stream",
     "text": [
      "What do you choose? Type '0' for Rock, '1' for Paper, '2' for Scissors:  2556\n",
      "You typed an invalid number, You Loose!\n"
     ]
    }
   ],
   "source": [
    "import random\n",
    "Rock = '''\n",
    "    _______\n",
    "---'   ____)\n",
    "      (_____)\n",
    "      (_____)\n",
    "      (____)\n",
    "---.__(___)\n",
    "'''\n",
    "\n",
    "Paper = '''\n",
    "    _______\n",
    "---'   ____)____\n",
    "          ______)\n",
    "          _______)\n",
    "         _______)\n",
    "---.__________)\n",
    "'''\n",
    "\n",
    "Scissors = '''\n",
    "    _______\n",
    "---'   ____)____\n",
    "          ______)\n",
    "       __________)\n",
    "      (____)\n",
    "---.__(___)\n",
    "'''\n",
    "game_images = [Rock, Paper, Scissors]\n",
    "\n",
    "user_choice = int(input(\"What do you choose? Type '0' for Rock, '1' for Paper, '2' for Scissors:  \"))\n",
    "\n",
    "if user_choice >=3 or user_choice < 0:\n",
    "    print(\"You typed an invalid number, You Loose!\")\n",
    "else:\n",
    "    print(game_images[user_choice])\n",
    "\n",
    "    computer_choice = random.randint(0, 2)\n",
    "    print(\"Computer Chose: \")\n",
    "    print(game_images[computer_choice])\n",
    "\n",
    "\n",
    "    if user_choice == 0 and computer_choice == 2:\n",
    "        print(\"You Win!!!\")\n",
    "    elif computer_choice == 0 and user_choice == 2:\n",
    "        print(\"\")\n",
    "\n",
    "    elif computer_choice > user_choice:\n",
    "        print(\"Sorry! You loose..\")\n",
    "    elif user_choice > computer_choice:\n",
    "        print('You win')\n",
    "\n",
    "    elif computer_choice == user_choice:\n",
    "        print(\"Its a draw\")  \n"
   ]
  },
  {
   "cell_type": "code",
   "execution_count": null,
   "metadata": {},
   "outputs": [],
   "source": []
  },
  {
   "cell_type": "code",
   "execution_count": null,
   "metadata": {},
   "outputs": [],
   "source": []
  }
 ],
 "metadata": {
  "hide_input": false,
  "kernelspec": {
   "display_name": "Python 3",
   "language": "python",
   "name": "python3"
  },
  "language_info": {
   "codemirror_mode": {
    "name": "ipython",
    "version": 3
   },
   "file_extension": ".py",
   "mimetype": "text/x-python",
   "name": "python",
   "nbconvert_exporter": "python",
   "pygments_lexer": "ipython3",
   "version": "3.7.6"
  },
  "toc": {
   "base_numbering": 1,
   "nav_menu": {},
   "number_sections": true,
   "sideBar": true,
   "skip_h1_title": false,
   "title_cell": "Table of Contents",
   "title_sidebar": "Contents",
   "toc_cell": false,
   "toc_position": {},
   "toc_section_display": true,
   "toc_window_display": false
  }
 },
 "nbformat": 4,
 "nbformat_minor": 4
}
