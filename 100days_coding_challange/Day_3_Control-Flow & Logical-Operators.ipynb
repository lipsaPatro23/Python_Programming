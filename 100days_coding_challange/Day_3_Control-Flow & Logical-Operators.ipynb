{
 "cells": [
  {
   "cell_type": "markdown",
   "metadata": {},
   "source": [
    "### CONDITIONAL STATEMENT"
   ]
  },
  {
   "cell_type": "code",
   "execution_count": null,
   "metadata": {},
   "outputs": [],
   "source": [
    "# if/else conditional staement:\n",
    "\"\"\"\n",
    "if condition:\n",
    "   do this\n",
    "else\n",
    "   do this\n",
    "\"\"\""
   ]
  },
  {
   "cell_type": "code",
   "execution_count": null,
   "metadata": {},
   "outputs": [],
   "source": [
    "#Write code: at present is 50 cm, if water level is 80 cms or more, it should over flow or it should continue filling the tub.\n",
    "water_level = 50\n",
    "\n",
    "if water_level >= 80:\n",
    "    print(\"Drain Water\")\n",
    "else:\n",
    "    print(\"Continue\")\n",
    "   \n"
   ]
  },
  {
   "cell_type": "code",
   "execution_count": null,
   "metadata": {},
   "outputs": [],
   "source": [
    "# Write code: You are working in a theme park. Your job is produce rollercoaster ride ticket for people\n",
    "#whose height is greater then 120cms others are not eligible.\n",
    "\n",
    "print(\"Welcome to the RollerCoaster\")\n",
    "height = float(input(\"Mention your height in cm? \\n\"))\n",
    "if height > 120:\n",
    "    print(\" You can ride rollercoaster\")\n",
    "else:\n",
    "    print(\"Sorry! you have to grow tallerbefore you can ride\")"
   ]
  },
  {
   "cell_type": "markdown",
   "metadata": {},
   "source": [
    "#### Exercise\n",
    "**Odd or Even**\n",
    "\n",
    "**Write a program that works out whether if a given number is odd or even number**"
   ]
  },
  {
   "cell_type": "code",
   "execution_count": null,
   "metadata": {},
   "outputs": [],
   "source": [
    "num = float(input(\"Choose a number: \\n\"))\n",
    "\n",
    "if num%2==0:\n",
    "    print(\"This is an EVEN number\")\n",
    "else:\n",
    "    print(\"This is an ODD number \")"
   ]
  },
  {
   "cell_type": "code",
   "execution_count": null,
   "metadata": {},
   "outputs": [],
   "source": [
    "6/3"
   ]
  },
  {
   "cell_type": "markdown",
   "metadata": {},
   "source": [
    "### Nested if statements and elif statements"
   ]
  },
  {
   "cell_type": "markdown",
   "metadata": {},
   "source": [
    "**if and else statements with two conditions are called Nested if statements and if it has more then 2 condition we use elif statement.**\n",
    "\n",
    "\n",
    "if condition:\n",
    "\n",
    "    if another condition:\n",
    "    \n",
    "        do this\n",
    "        \n",
    "    else:\n",
    "    \n",
    "       do this\n",
    "else:\n",
    "\n",
    "    do this\n"
   ]
  },
  {
   "cell_type": "code",
   "execution_count": null,
   "metadata": {},
   "outputs": [],
   "source": [
    "# Write code: You are working in a theme park. Your job is produce rollercoaster ride ticket for people\n",
    "#whose height is greater then 120cms and others are not eligible.Now check the age of elible people.\n",
    "#if greater than 18 years charge 12$ and 7$ for below 18 years.\n",
    "print(\"Welcome to the RollerCoaster\")\n",
    "\n",
    "height = float(input(\"What is your height in cm\"))  #here condition is true\n",
    "\n",
    "if height >= 120:\n",
    "    print(\"You can ride the rollercoaster. \")\n",
    "    age = int(input(\"What is your age? \\n\"))\n",
    "    if age < 18:\n",
    "        print(\"Please pay 7$ \")\n",
    "    else:\n",
    "        print(\"Please pay 12$\")\n",
    "else:\n",
    "    print(\"Sorry, you have to grow taller, before you ride.\")"
   ]
  },
  {
   "cell_type": "code",
   "execution_count": null,
   "metadata": {},
   "outputs": [],
   "source": [
    "# Write code: You are working in a theme park. Your job is produce rollercoaster ride ticket for people\n",
    "#whose height is greater then 120cms and others are not eligible.Now check the age of elible people.\n",
    "#if greater than 18 years charge 12$, if age is between 12-18 years charge 7$ and below 12 years charge 5$.\n",
    "\n",
    "print(\"Welcome to the RollerCoaster\")\n",
    "\n",
    "height = float(input(\"What is your height in cm: \\n\"))\n",
    "\n",
    "if height >=120:\n",
    "    print(\"You can ride rollercoaster\")\n",
    "    age = int(input(\"What is your age? \"))\n",
    "    if age < 12:\n",
    "        print(\"Please pay 5$\")\n",
    "    elif age <=18:\n",
    "        print(\"please pay 7$\")\n",
    "    else:\n",
    "        print(\"please pay 12$\")\n",
    "else:\n",
    "    print(\"Sorry, you have to grow taller before ride it.\")"
   ]
  },
  {
   "cell_type": "markdown",
   "metadata": {},
   "source": [
    "#### Exercise\n",
    "\n",
    "**BMI Calculator with Interpretation**\n",
    "\n",
    "**Write a program that interprets the Body Mass Index based on user's weight and height. It should tell them the interpretation of their BMI based on their BMI value**\n",
    "\n",
    "*Under 18.5 - They are underweight.\n",
    "\n",
    "*Over 18.5 but below 25 - They have normal weight\n",
    "\n",
    "*Over 25 but below 30 - They are overweight\n",
    "\n",
    "*Over 30 but below 35 - They are obese\n",
    "\n",
    "*Above 35 - Clinically obese\n"
   ]
  },
  {
   "cell_type": "code",
   "execution_count": null,
   "metadata": {},
   "outputs": [],
   "source": [
    "print(\"Health is wealth! \")\n",
    "\n",
    "height = float(input(\"Please enter your height in meter:  \"))\n",
    "weight = float(input(\"Please enter your weight in Kilogram: \"))\n",
    "bmi =round(weight/height**2,2)\n",
    "print(f\"Your BMI is {bmi}. \")\n",
    "\n",
    "if bmi < 18.5:\n",
    "    print(\"You are underweight\")\n",
    "elif bmi < 25:\n",
    "    print(\"You have normal weight\")\n",
    "elif bmi < 30:\n",
    "    print(\"You are overweight\")\n",
    "elif bmi < 35:\n",
    "    print(\"You are obese\")\n",
    "else:\n",
    "    print(\"You are clinically obese\")\n"
   ]
  },
  {
   "cell_type": "markdown",
   "metadata": {},
   "source": [
    "#### Exercise\n",
    "**Leap Year**(https://www.youtube.com/watch?v=xX96xng7sAE)\n",
    "\n",
    "**Write a program that works out whether if a given year is a leap year.** \n",
    "\n",
    "*Hint:This is how you work out if a particular year in a leap year*\n",
    "\n",
    "*on every year that is evenly divisible by 4 except every year that is evenly divisible by 100 unless the year is also evenly\n",
    " divisible by 400*\n",
    " \n",
    "*leap year flow chart(https://sites.google.com/site/ongytenes/code/gambas/gambas-code-snippets/gambas---leap-year-function-example)"
   ]
  },
  {
   "cell_type": "code",
   "execution_count": null,
   "metadata": {},
   "outputs": [],
   "source": [
    "print(\"Leap Year or not\")\n",
    "\n",
    "year = int(input(\"Which year you want to check? \\n\"))\n",
    "\n",
    "if year % 4 == 0:\n",
    "    if year % 100 == 0:\n",
    "        if year % 400 == 0:\n",
    "            print(\"Leap Year\")\n",
    "        else:\n",
    "            print(\"Not Leap Year\")\n",
    "    else:\n",
    "        print(\"Leap Year\")\n",
    "else:\n",
    "    print(\"Not a Leap year\")\n"
   ]
  },
  {
   "cell_type": "markdown",
   "metadata": {},
   "source": [
    "### Multiple if statements:"
   ]
  },
  {
   "cell_type": "code",
   "execution_count": null,
   "metadata": {},
   "outputs": [],
   "source": [
    "## Write code: You are working in a theme park. Your job is produce rollercoaster ride ticket for people\n",
    "#whose height is greater then 120cms and others are not eligible.Now check the age of elible people.\n",
    "#if greater than 18 years charge 12$, if age is between 12-18 years charge 7$ and below 12 years charge 5$.and then we will\n",
    "#check wether they need photo or not. if yes then 3$ to be charged extra to all customers.\n",
    "\n",
    "print(\"Welcome to the RollerCoaster\")\n",
    "height = float(input(\"What is your height in cm: \\n\"))\n",
    "bill = 0\n",
    "\n",
    "if height >=120:\n",
    "    print(\"You can ride rollercoaster\")\n",
    "    age = int(input(\"What is your age? \\n\"))\n",
    "    if age < 12:\n",
    "        bill = 5\n",
    "        print(\"Child tickets are 5$\")\n",
    "    elif age <=18:\n",
    "        bill = 7\n",
    "        print(\"Youth tickets are 7$\")\n",
    "    else:\n",
    "        bill = 12\n",
    "        print(\"Adults tickets are 12$\")\n",
    "    photo = input(\"Do you want a photo taken, type 'Y' or 'N' \\n\").upper()\n",
    "    if photo == 'Y':\n",
    "        bill+=3\n",
    "    print(f\"Your final bill is ${bill}\")\n",
    "else:\n",
    "    print(\"Sorry, you have to grow taller before ride it.\")"
   ]
  },
  {
   "cell_type": "markdown",
   "metadata": {},
   "source": [
    "#### Exercise\n",
    "**Pizza Order**\n",
    "\n",
    "**You have got a job at Python Pizza, Your job is to build an automatic pizza order**\n",
    "\n",
    "**Based on a user's order, workout their final bill.**\n",
    "\n",
    "* small Pizza - $15\n",
    "\n",
    "* Medium Pizza - $20\n",
    "\n",
    "* Large Pizza - $25\n",
    "\n",
    "* Pepperoni for small pizza: +$2\n",
    "\n",
    "* Pepperoni for medium or large pizza: +$3\n",
    "\n",
    "* Extra cheese for any size pizza: +$1"
   ]
  },
  {
   "cell_type": "code",
   "execution_count": 2,
   "metadata": {},
   "outputs": [
    {
     "name": "stdout",
     "output_type": "stream",
     "text": [
      "Welcome to Python Pizza\n",
      "What size pizza you want? \n",
      " Type 'S' for small, 'M' for Medium, 'L' for Large.\n",
      "s\n",
      "Would you like to add pepperoni? 'Y' or 'N'\n",
      "y\n",
      "Would you like to add extra cheese? 'Y' or 'N'\n",
      "n\n",
      "Your final bill is $17\n"
     ]
    }
   ],
   "source": [
    "print(\"Welcome to Python Pizza\")\n",
    "\n",
    "size = input(\"What size pizza you want? \\n Type 'S' for small, 'M' for Medium, 'L' for Large.\\n\").upper()\n",
    "add_pepperoni = input(\"Would you like to add pepperoni? 'Y' or 'N'\\n\").upper()\n",
    "extra_cheese = input(\"Would you like to add extra cheese? 'Y' or 'N'\\n\" ).upper()\n",
    "\n",
    "bill = 0\n",
    "\n",
    "if size == \"S\":\n",
    "    bill+= 15\n",
    "elif size == \"M\":\n",
    "    bill+= 20 \n",
    "else:\n",
    "    bill+= 25\n",
    "    \n",
    "if add_pepperoni == \"Y\":\n",
    "    if size == \"S\":\n",
    "        bill+= 2\n",
    "    else:\n",
    "        bill+= 3\n",
    "        \n",
    "if extra_cheese == \"Y\":\n",
    "    bill+=1\n",
    "\n",
    "print(f\"Your final bill is ${bill}\")\n"
   ]
  },
  {
   "cell_type": "markdown",
   "metadata": {},
   "source": [
    "### Logical Operators:\n",
    "\n",
    "**and** - A and B - both conditions has to be True\n",
    "\n",
    "**or** - A or B - one condition has to be True. if both false then statement is False.\n",
    "\n",
    "**not** - Reverse condition"
   ]
  },
  {
   "cell_type": "code",
   "execution_count": 3,
   "metadata": {},
   "outputs": [
    {
     "name": "stdout",
     "output_type": "stream",
     "text": [
      "Welcome to the RollerCoaster\n",
      "What is your height in cm: \n",
      "155\n",
      "You can ride rollercoaster\n",
      "What is your age? \n",
      "49\n",
      "Everything will be Okay, Have a free ride on us.\n",
      "Do you want a photo taken, type 'Y' or 'N' \n",
      "y\n",
      "Your final bill is $3\n"
     ]
    }
   ],
   "source": [
    "## Write code: You are working in a theme park. Your job is produce rollercoaster ride ticket for people\n",
    "#whose height is greater then 120cms and others are not eligible.Now check the age of elible people.\n",
    "#if greater than 18 years charge 12$, if age is between 12-18 years charge 7$ and below 12 years charge 5$.and then we will\n",
    "#check wether they need photo or not. if yes then 3$ to be charged extra to all customers.\n",
    "#MIDLIFE CRISIS BENIFIT - Tickets for People age between 45-55 are FREE.\n",
    "\n",
    "print(\"Welcome to the RollerCoaster\")\n",
    "height = float(input(\"What is your height in cm: \\n\"))\n",
    "bill = 0\n",
    "\n",
    "if height >=120:\n",
    "    print(\"You can ride rollercoaster\")\n",
    "    age = int(input(\"What is your age? \\n\"))\n",
    "    if age < 12:\n",
    "        bill = 5\n",
    "        print(\"Child tickets are 5$\")\n",
    "    elif age <=18:\n",
    "        bill = 7\n",
    "        print(\"Youth tickets are 7$\")\n",
    "    elif age >=45 and age <=55:\n",
    "        print(\"Everything will be Okay, Have a free ride on us.\")\n",
    "    else:\n",
    "        bill = 12\n",
    "        print(\"Adults tickets are 12$\")\n",
    "    photo = input(\"Do you want a photo taken, type 'Y' or 'N' \\n\").upper()\n",
    "    if photo == 'Y':\n",
    "        bill+=3\n",
    "    print(f\"Your final bill is ${bill}\")\n",
    "else:\n",
    "    print(\"Sorry, you have to grow taller before ride it.\")"
   ]
  },
  {
   "cell_type": "markdown",
   "metadata": {},
   "source": [
    "#### Exercise\n",
    "**Love Calculator**(REFERENCE:https://www.buzzfeed.com/ariannarebolini/what-are-the-chances-your-crush-is-actually-your-true-love)\n",
    "\n",
    "**You are going to write a program that tests the compatibility two people.We are going to use the super scientific method recommended by Buzzfeed**\n",
    "\n",
    "**To work the love score between two people:**\n",
    "\n",
    "*Take both people's names and check the number of the times the letters in the word TRUE occurs. Then check for the number of times the letters in the word LOVE occurs.Then Combine these two numbers to make two digit number*\n",
    "\n",
    "*For love score is less than 10 or more than 90 - msg should be :-\"Your score is x and you together like Coke and Mentos\"*\n",
    "\n",
    "*For love score between 40 and 50 - the msg should be :- \"Your score is Y, you are alright together\"*\n",
    "\n",
    "*Otherwise the msg will just be their score :- \"Your score is Z\"\n",
    "\n",
    "*Hint: Use lower() & count()"
   ]
  },
  {
   "cell_type": "code",
   "execution_count": 1,
   "metadata": {},
   "outputs": [
    {
     "name": "stdout",
     "output_type": "stream",
     "text": [
      "Welcome to love calculator\n",
      "What is Your name? \n",
      "Narender\n",
      "What is your loved one name? \n",
      "Nirmal\n",
      "Your love_score is 53\n"
     ]
    }
   ],
   "source": [
    "print(\"Welcome to love calculator\")\n",
    "\n",
    "name1 = input(\"What is Your name? \\n\")\n",
    "name2 = input(\"What is your loved one name? \\n\")\n",
    "\n",
    "combine_string = name1+name2.lower()\n",
    "\n",
    "t = combine_string.count(\"t\")\n",
    "r= combine_string.count(\"r\")\n",
    "u = combine_string.count(\"u\")\n",
    "e = combine_string.count(\"e\")\n",
    "true = t+r+u+e\n",
    "\n",
    "l = combine_string.count(\"l\")\n",
    "o= combine_string.count(\"o\")\n",
    "v = combine_string.count(\"v\")\n",
    "e = combine_string.count(\"e\")\n",
    "love = l+o+v+e\n",
    "\n",
    "love_score = int(str(true)+str(love))\n",
    "\n",
    "if love_score < 10 or love_score > 90:\n",
    "    print(f\"Your love is {love_score}, you together like Coke and Mentos\")\n",
    "elif love_score >= 40 and love_score <= 50:\n",
    "    print(f\"Your score is {love_score}, you are alright together\")\n",
    "else:\n",
    "    print(f\"Your love_score is {love_score}\")"
   ]
  },
  {
   "cell_type": "markdown",
   "metadata": {},
   "source": [
    "## Day 3: Treasure Island\n",
    "\n",
    "**Treausure Island flow chart** \n",
    "(https://viewer.diagrams.net/highlight=0000ff&edit=_blank&layers=1&nav=1&title=Treasure%20Island%20Conditional.drawio#Uhttps%3A%2F%2Fdrive.google.com%2Fuc%3Fid%3D1oDe4ehjWZipYRsVfeAx2HyB7LCQ8_Fvi%26export%3Ddownload)\n",
    "\n",
    "*https://ascii.co.uk/art*"
   ]
  },
  {
   "cell_type": "code",
   "execution_count": 2,
   "metadata": {},
   "outputs": [
    {
     "name": "stdout",
     "output_type": "stream",
     "text": [
      "\n",
      "*******************************************************************************\n",
      "          |                   |                  |                     |\n",
      " _________|________________.=\"\"_;=.______________|_____________________|_______\n",
      "|                   |  ,-\"_,=\"\"     `\"=.|                  |\n",
      "|___________________|__\"=._o`\"-._        `\"=.______________|___________________\n",
      "          |                `\"=._o`\"=._      _`\"=._                     |\n",
      " _________|_____________________:=._o \"=._.\"_.-=\"'\"=.__________________|_______\n",
      "|                   |    __.--\" , ; `\"=._o.\" ,-\"\"\"-._ \".   |\n",
      "|___________________|_._\"  ,. .` ` `` ,  `\"-._\"-._   \". '__|___________________\n",
      "          |           |o`\"=._` , \"` `; .\". ,  \"-._\"-._; ;              |\n",
      " _________|___________| ;`-.o`\"=._; .\" ` '`.\"\\` . \"-._ /_______________|_______\n",
      "|                   | |o;    `\"-.o`\"=._``  '` \" ,__.--o;   |\n",
      "|___________________|_| ;     (#) `-.o `\"=.`_.--\"_o.-; ;___|___________________\n",
      "____/______/______/___|o;._    \"      `\".o|o_.--\"    ;o;____/______/______/____\n",
      "/______/______/______/_\"=._o--._        ; | ;        ; ;/______/______/______/_\n",
      "____/______/______/______/__\"=._o--._   ;o|o;     _._;o;____/______/______/____\n",
      "/______/______/______/______/____\"=._o._; | ;_.--\"o.--\"_/______/______/______/_\n",
      "____/______/______/______/______/_____\"=.o|o_.--\"\"___/______/______/______/____\n",
      "/______/______/______/______/______/______/______/______/______/______/_____ /\n",
      "*******************************************************************************\n",
      "\n",
      "welcome to treasure Island\n",
      "Your mission is to find the treasure.\n",
      "You're at the crossroad, where do you want to go? Type \"left\" or \"right\" \n",
      "left\n",
      "You've come to a lake,ther is an Island in the middle of the lake.Type 'wait' to wait for a boat. Type'swim'to swim across \n",
      "wait\n",
      "You arraived at the ISLAND unharmed, There is horse with 3 doors 'red','blue','yellow'. Which one you choose?yellow\n",
      "You chose a wrong door, Game Over!\n"
     ]
    }
   ],
   "source": [
    "print('''\n",
    "*******************************************************************************\n",
    "          |                   |                  |                     |\n",
    " _________|________________.=\"\"_;=.______________|_____________________|_______\n",
    "|                   |  ,-\"_,=\"\"     `\"=.|                  |\n",
    "|___________________|__\"=._o`\"-._        `\"=.______________|___________________\n",
    "          |                `\"=._o`\"=._      _`\"=._                     |\n",
    " _________|_____________________:=._o \"=._.\"_.-=\"'\"=.__________________|_______\n",
    "|                   |    __.--\" , ; `\"=._o.\" ,-\"\"\"-._ \".   |\n",
    "|___________________|_._\"  ,. .` ` `` ,  `\"-._\"-._   \". '__|___________________\n",
    "          |           |o`\"=._` , \"` `; .\". ,  \"-._\"-._; ;              |\n",
    " _________|___________| ;`-.o`\"=._; .\" ` '`.\"\\` . \"-._ /_______________|_______\n",
    "|                   | |o;    `\"-.o`\"=._``  '` \" ,__.--o;   |\n",
    "|___________________|_| ;     (#) `-.o `\"=.`_.--\"_o.-; ;___|___________________\n",
    "____/______/______/___|o;._    \"      `\".o|o_.--\"    ;o;____/______/______/____\n",
    "/______/______/______/_\"=._o--._        ; | ;        ; ;/______/______/______/_\n",
    "____/______/______/______/__\"=._o--._   ;o|o;     _._;o;____/______/______/____\n",
    "/______/______/______/______/____\"=._o._; | ;_.--\"o.--\"_/______/______/______/_\n",
    "____/______/______/______/______/_____\"=.o|o_.--\"\"___/______/______/______/____\n",
    "/______/______/______/______/______/______/______/______/______/______/_____ /\n",
    "*******************************************************************************\n",
    "''')\n",
    "#to ignore the apostrophy mark in between put a backslash in front of it.\n",
    "\n",
    "print(\"welcome to treasure Island\")\n",
    "print(\"Your mission is to find the treasure.\")\n",
    "choice1=input('You\\'re at the crossroad, where do you want to go? Type \"left\" or \"right\" \\n').lower()\n",
    "\n",
    "if choice1 == \"left\":\n",
    "    choice2 = input(\"You\\'ve come to a lake,ther is an Island in the middle of the lake.Type 'wait' to wait for a boat. Type'swim'to swim across \\n\").lower()\n",
    "    if choice2 == \"wait\":\n",
    "        choice3 = input(\"You arraived at the ISLAND unharmed, There is horse with 3 doors 'red','blue','yellow'. Which one you choose?\").lower()\n",
    "        if choice3 == \"red\":\n",
    "            print(\"It's room full of Fire,Game Over!\")\n",
    "        elif choice3 == \"blue\":\n",
    "            print(\"You enter the room of beasts, Game Over!\")\n",
    "        elif choice3 == \"Yellow\":\n",
    "            print(\"WOHO... You got the treasure, You won!\")\n",
    "        else:\n",
    "            print(\"You chose a wrong door, Game Over!\")\n",
    "    else:\n",
    "        print(\"You got attacked by an angry trout, Game Over!\")\n",
    "else:\n",
    "    print(\"Game Over!, You fell into a whole.\")\n",
    "\n",
    "    \n"
   ]
  },
  {
   "cell_type": "code",
   "execution_count": null,
   "metadata": {},
   "outputs": [],
   "source": []
  }
 ],
 "metadata": {
  "hide_input": false,
  "kernelspec": {
   "display_name": "Python 3",
   "language": "python",
   "name": "python3"
  },
  "language_info": {
   "codemirror_mode": {
    "name": "ipython",
    "version": 3
   },
   "file_extension": ".py",
   "mimetype": "text/x-python",
   "name": "python",
   "nbconvert_exporter": "python",
   "pygments_lexer": "ipython3",
   "version": "3.7.6"
  },
  "toc": {
   "base_numbering": 1,
   "nav_menu": {},
   "number_sections": true,
   "sideBar": true,
   "skip_h1_title": false,
   "title_cell": "Table of Contents",
   "title_sidebar": "Contents",
   "toc_cell": false,
   "toc_position": {},
   "toc_section_display": true,
   "toc_window_display": false
  }
 },
 "nbformat": 4,
 "nbformat_minor": 4
}
