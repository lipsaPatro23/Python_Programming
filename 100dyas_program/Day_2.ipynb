{
 "cells": [
  {
   "cell_type": "markdown",
   "metadata": {},
   "source": [
    "### Primitive Data Types:"
   ]
  },
  {
   "cell_type": "markdown",
   "metadata": {},
   "source": [
    "**yesterday we used len() function, when we entered \"string\" it returned its length, however if i put numbers in the function\n",
    "we weill get error. why so? to understand this we will learn data types first.**\n",
    "\n",
    "*print(len(\"hello\"))\n",
    "*print(len(12335))\n",
    "\n",
    "**Lets Explore DATA TYPES:\n",
    "\n",
    "**1.String**\n",
    "\n",
    "**.Integer**\n",
    "\n",
    "**.Float**\n",
    "\n",
    "**4.Boolean**"
   ]
  },
  {
   "cell_type": "code",
   "execution_count": null,
   "metadata": {},
   "outputs": [],
   "source": [
    "#STRING - A string or group of characters and we have to create them with double quotes or single quotes around them.eg:\"Hello\"\n",
    "# As its the string of characters, we can pull out the characters individually.\n",
    "# The method of pulling out particular method is called \"SUBSCRIPTING\"\n",
    "\n",
    "print(\"Hello\"[0])\n",
    "print(\"Hello\"[-1])"
   ]
  },
  {
   "cell_type": "code",
   "execution_count": null,
   "metadata": {},
   "outputs": [],
   "source": [
    "# When we write numbers in side the quotes, its considered as strings.\n",
    "print(\"123\"+\"789\")\n",
    "\n",
    "# It concatianted two strings, we did not get any tradinational add result from numbers.if we want to perform the mathemetical\n",
    "#operation like addtion we have to declare numbers."
   ]
  },
  {
   "cell_type": "code",
   "execution_count": null,
   "metadata": {},
   "outputs": [],
   "source": [
    "# INTEGER - The number or whole numbers(+,-) are called Integers.We should write it with out quotation marks.\n",
    "print(123+456)\n",
    "\n",
    "#Here we got addition results. We give commas to increase readability of large number 856,159,357. So in python we can write \n",
    "#by giving under scores. the system eill read with out any problem. Eg: 123_789_456_159"
   ]
  },
  {
   "cell_type": "code",
   "execution_count": null,
   "metadata": {},
   "outputs": [],
   "source": [
    "#FLOAT- Decimal numbers are called float points numbers or float\n",
    "pi = 3.14159"
   ]
  },
  {
   "cell_type": "code",
   "execution_count": null,
   "metadata": {},
   "outputs": [],
   "source": [
    "#BOOLEAN - it has two possible values True & False. Its first letter is capital\n",
    "True\n",
    "False"
   ]
  },
  {
   "cell_type": "markdown",
   "metadata": {},
   "source": [
    "### Type Error, Type Checking and Type Conversion"
   ]
  },
  {
   "cell_type": "code",
   "execution_count": null,
   "metadata": {},
   "outputs": [],
   "source": [
    "# we saw len(123) gave error as len function doesnt work with numbers\n",
    "# if you run the below code, it will give error as we are trying to concat numbers with strings\n",
    "num_char = len(input(\"What is your name? \"))\n",
    "#print(\"Your name has \" + num_char + \" characters\")\n",
    "\n",
    "# so, what could we prevent the errors and see the data types we working with.\n",
    "# Answer is ---> type(), it will check the data type.\n",
    "print(type(num_char))\n"
   ]
  },
  {
   "cell_type": "code",
   "execution_count": null,
   "metadata": {},
   "outputs": [],
   "source": [
    "# TYPECSATING or TYPE CONVERSION -  Where convert data types\n",
    "#str(int)\n",
    "#str(float)\n",
    "#float(int)\n",
    "#float(str)\n",
    "#int(float) - it will ignore the number after decimal\n",
    "#int(\"str_numbers\") \n"
   ]
  },
  {
   "cell_type": "markdown",
   "metadata": {},
   "source": [
    "#### Exercise\n",
    "**Data Types**\n",
    "\n",
    "1.Write a program that adds in a 2 digit number. eg: if input was 35, then output should be 3+5 = 8"
   ]
  },
  {
   "cell_type": "code",
   "execution_count": null,
   "metadata": {},
   "outputs": [],
   "source": [
    "#two_digit_number = int(input(\"Type a two digit number: \"))-this will give ->TypeError: 'int' object is not subscriptable\n",
    "\n",
    "two_digit_number = input(\"Type a two digit number: \")\n",
    "\n",
    "print(int(two_digit_number[0])+int(two_digit_number[1]))"
   ]
  },
  {
   "cell_type": "markdown",
   "metadata": {},
   "source": [
    "### Mathematical Operations"
   ]
  },
  {
   "cell_type": "code",
   "execution_count": null,
   "metadata": {},
   "outputs": [],
   "source": [
    "print(3+5) # Addition\n",
    "print(7-3) # substraction\n",
    "print(5*2) # multiplication\n",
    "print(6/3) # division, returns floating point number\n",
    "print(2**2) # exponent\n",
    "print(8//3) #floor division,output will be lower end value\n",
    "# When we want to perform multiple mathmetical operation - ORDER of Operation is Important - PEMDASLR - left to right\n",
    "# Note- multiplication and division is equally important, so calculation goes from left to right (whatever comes first it will execute)"
   ]
  },
  {
   "cell_type": "markdown",
   "metadata": {},
   "source": [
    "#### Exercise\n",
    "**BMI calculator**\n",
    "\n",
    "**Write program that calculate the body mass index(BMI) from a user's weight and height.**\n",
    "\n",
    "*The BMI is the measure of someone's weight taking into account their height.eg: if a tall person and short person both weigh the same amount, the sort person is usually over weighted.*\n",
    "\n",
    "**BMI = weight in kg/ height square(meter square) [\" Convert the result into whole number\"] **"
   ]
  },
  {
   "cell_type": "code",
   "execution_count": null,
   "metadata": {},
   "outputs": [],
   "source": [
    "height = float(input(\"Enter Your Height in meter: \"))\n",
    "weight = float(input(\"Enter Your Weight in Kilogram: \"))\n",
    "BMI = round(weight/height**2) \n",
    "print(BMI)"
   ]
  },
  {
   "cell_type": "markdown",
   "metadata": {},
   "source": [
    "### Number Manipulation and F strings in Python"
   ]
  },
  {
   "cell_type": "code",
   "execution_count": null,
   "metadata": {},
   "outputs": [],
   "source": [
    "#round() - it round to nearst possible digit and the number of precision we want.\n",
    "print(round(8/3,2))"
   ]
  },
  {
   "cell_type": "code",
   "execution_count": null,
   "metadata": {},
   "outputs": [],
   "source": [
    "# we can do mathmetical operation with our stored variables.\n",
    "\n",
    "score = 10\n",
    "#score = score+10 (we can directly write the below line)\n",
    "score+=10  # we can use any math operator using this sort hand \n",
    "print(score)"
   ]
  },
  {
   "cell_type": "code",
   "execution_count": null,
   "metadata": {},
   "outputs": [],
   "source": [
    "#There are multiple ways to format strings for printing variables. This is known as string interpolation.\n",
    "# .format() -old way of string formating still useful for switching position of to be inserted items\n",
    "#F' string- Helps to print all types of Data Type together - easy way\n",
    "\n",
    "score = 1\n",
    "height = 1.8\n",
    "isWinning = True\n",
    "print(f\"Your score is {score}, Your height is {height} and your winning is {isWinning}\")\n",
    "print(\"Your winning is {}, your score is {}, your height is {}\".format(isWinning,score,height))\n",
    "print(\"Your score is {2}, Your height is {0} and your winning is {1}\".format(height,isWinning,score))"
   ]
  },
  {
   "cell_type": "markdown",
   "metadata": {},
   "source": [
    "#### Exercise\n",
    "**Life in Weeks**\n",
    "\n",
    "**Create a program using math and F-strings that tells us how many days, weeks and months we have left if we live until 90 years old?**"
   ]
  },
  {
   "cell_type": "code",
   "execution_count": null,
   "metadata": {},
   "outputs": [],
   "source": [
    "age = int(input(\"what is your current age? \"))\n",
    "years_remaining = 90-age\n",
    "months_remaining = years_remaining*12\n",
    "weeks_remaining = years_remaining*52\n",
    "days_remaining = years_remaining*365\n",
    "print(f\"You have {years_remaining}years, {months_remaining}months, {weeks_remaining}weeks, {days_remaining}days left, if you live until 90 years. \")"
   ]
  },
  {
   "cell_type": "code",
   "execution_count": null,
   "metadata": {},
   "outputs": [],
   "source": [
    "print(6 + 4 / 2 - (1 * 2))"
   ]
  },
  {
   "cell_type": "code",
   "execution_count": null,
   "metadata": {},
   "outputs": [],
   "source": [
    "a = int(\"5\") / int(2.7)\n",
    "print(type(a))"
   ]
  },
  {
   "cell_type": "markdown",
   "metadata": {},
   "source": [
    "## DAY 2 Project: Create a tip calculator \n",
    "\n",
    "**The output should look like as shown below**\n",
    "\n",
    "*Welcome to tip calculator*\n",
    "\n",
    "*What was the total bill*\n",
    "\n",
    "*What percentage of tip, would you like to give*\n",
    "\n",
    "*How many people to split the bill*\n",
    "\n",
    "*Each Person should pay:*\n"
   ]
  },
  {
   "cell_type": "code",
   "execution_count": 2,
   "metadata": {},
   "outputs": [
    {
     "name": "stdout",
     "output_type": "stream",
     "text": [
      "Welcome to Tip Calculator\n",
      "What was the total bill: \n",
      " $199\n",
      "What percentage of tip, would you like to pay? 10,12,or15:\n",
      " %15\n",
      "Howmany people to split the bill? \n",
      " People 7\n",
      "each person should pay $32.69\n"
     ]
    }
   ],
   "source": [
    "print(\"Welcome to Tip Calculator\")\n",
    "\n",
    "\"\\n\"\n",
    "bill = float(input(\"What was the total bill: \\n $\"))\n",
    "\"\\n\"\n",
    "tip = int(input(\"What percentage of tip, would you like to pay? 10,12,or15:\\n %\"))\n",
    "\"\\n\"\n",
    "people = int(input(\"Howmany people to split the bill? \\n People \"))\n",
    "\"\\n\"\n",
    "bill_with_tip = tip/100*bill+bill\n",
    "\"\\n\"\n",
    "bill_per_person = round(bill_with_tip/people,2)\n",
    "\"\\n\"\n",
    "final_amount = \"{:.2f}\".format(bill_per_person)\n",
    "\"\\n\"\n",
    "print(f\"each person should pay ${final_amount}\")\n"
   ]
  },
  {
   "cell_type": "code",
   "execution_count": null,
   "metadata": {},
   "outputs": [],
   "source": []
  }
 ],
 "metadata": {
  "hide_input": false,
  "kernelspec": {
   "display_name": "Python 3",
   "language": "python",
   "name": "python3"
  },
  "language_info": {
   "codemirror_mode": {
    "name": "ipython",
    "version": 3
   },
   "file_extension": ".py",
   "mimetype": "text/x-python",
   "name": "python",
   "nbconvert_exporter": "python",
   "pygments_lexer": "ipython3",
   "version": "3.7.6"
  },
  "toc": {
   "base_numbering": 1,
   "nav_menu": {},
   "number_sections": true,
   "sideBar": true,
   "skip_h1_title": false,
   "title_cell": "Table of Contents",
   "title_sidebar": "Contents",
   "toc_cell": false,
   "toc_position": {},
   "toc_section_display": true,
   "toc_window_display": false
  }
 },
 "nbformat": 4,
 "nbformat_minor": 4
}
